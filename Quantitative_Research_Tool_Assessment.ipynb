{
 "cells": [
  {
   "cell_type": "code",
   "execution_count": 1,
   "metadata": {},
   "outputs": [],
   "source": [
    "import numpy as np\n",
    "import pandas as pd\n",
    "from collections import Counter\n",
    "import matplotlib.pyplot as plt\n",
    "import pingouin as pg\n",
    "#pg.cronbach_alpha(data=df)"
   ]
  },
  {
   "cell_type": "code",
   "execution_count": 2,
   "metadata": {},
   "outputs": [],
   "source": [
    "df_frame = pd.read_excel('Pilot_data.xlsx',sheet_name=\"Sheet1\")#.drop(['Unnamed: 0','Unnamed: 9'],axis=1)\n"
   ]
  },
  {
   "cell_type": "code",
   "execution_count": 3,
   "metadata": {},
   "outputs": [],
   "source": [
    "df_frame_sel = df_frame[df_frame.columns[1:]]"
   ]
  },
  {
   "cell_type": "code",
   "execution_count": 4,
   "metadata": {},
   "outputs": [
    {
     "data": {
      "text/plain": [
       "(15, 36)"
      ]
     },
     "execution_count": 4,
     "metadata": {},
     "output_type": "execute_result"
    }
   ],
   "source": [
    "df_frame_sel.shape"
   ]
  },
  {
   "cell_type": "code",
   "execution_count": 6,
   "metadata": {
    "tags": []
   },
   "outputs": [],
   "source": [
    "#df_frame_sel"
   ]
  },
  {
   "cell_type": "code",
   "execution_count": 7,
   "metadata": {},
   "outputs": [
    {
     "data": {
      "text/plain": [
       "[0, 5, 15, 26, 36]"
      ]
     },
     "execution_count": 7,
     "metadata": {},
     "output_type": "execute_result"
    }
   ],
   "source": [
    "#creating cummulative counts\n",
    "rs = 0 \n",
    "ds = []\n",
    "sects = [0,5,10,11,10]\n",
    "for i in range(len(sects)):\n",
    "    rs+=sects[i]\n",
    "    ds.append(rs)\n",
    "ds"
   ]
  },
  {
   "cell_type": "code",
   "execution_count": 8,
   "metadata": {},
   "outputs": [],
   "source": [
    "cron_pa = []\n",
    "inde = ['secA','Good governance practice', 'Challenges', 'Governance and service delivery'] \n",
    "for i in range(len(ds)-1):\n",
    "    frame_for_conbach = df_frame_sel[df_frame_sel.columns[ds[i]:ds[i+1]]]\n",
    "    cron_pa.append([pg.cronbach_alpha(data=frame_for_conbach)[0],pg.cronbach_alpha(data=frame_for_conbach)[1][0],pg.cronbach_alpha(data=frame_for_conbach)[1][1]])\n",
    "cronbach_df = pd.DataFrame(data = cron_pa, columns =['Cronbach Alpha', 'LL','UL'], index = inde)\n",
    "    #chi2, p, dof, ex = chi2_contingency(frame_forchi.values)\n",
    "    #chi_pa.append([chi2,p])\n",
    "#chi_df = pd.DataFrame(data = chi_pa, columns=['Chi-Square','p-value'])"
   ]
  },
  {
   "cell_type": "code",
   "execution_count": 9,
   "metadata": {},
   "outputs": [],
   "source": [
    "cronbach_df.to_csv('Cronbach_Alpha.csv')"
   ]
  },
  {
   "cell_type": "code",
   "execution_count": null,
   "metadata": {},
   "outputs": [],
   "source": []
  },
  {
   "cell_type": "code",
   "execution_count": null,
   "metadata": {},
   "outputs": [],
   "source": [
    "def sections_cronbach(sec_list):\n",
    "    cronbach = []\n",
    "    inde = ['secA','Career Advancement', 'Job Satisfaction', 'Employee loyalty'] \n",
    "    for sec in sec_list:\n",
    "        cronbach.append([pg.cronbach_alpha(data=sec)[0],pg.cronbach_alpha(data=sec)[1][0],pg.cronbach_alpha(data=sec)[1][1]])\n",
    "    #print(cronbach)\n",
    "    return pd.DataFrame(data = cronbach, columns =['Cronbach Alpha', 'LL','UL'], index = inde)"
   ]
  },
  {
   "cell_type": "code",
   "execution_count": null,
   "metadata": {},
   "outputs": [],
   "source": [
    "sects = [0,6,10,12,9]\n",
    "\n",
    "for i in range(len(sects)-1):\n",
    "    "
   ]
  },
  {
   "cell_type": "code",
   "execution_count": null,
   "metadata": {},
   "outputs": [],
   "source": [
    "def sections_cronbach(sec_list):\n",
    "    cronbach = []\n",
    "    inde = ['secA','Career Advancement','Job Satisfaction','Employee loyalty'] \n",
    "    for sec in sec_list:\n",
    "        cronbach.append([pg.cronbach_alpha(data=sec)[0],pg.cronbach_alpha(data=sec)[1][0],pg.cronbach_alpha(data=sec)[1][1]])\n",
    "    #print(cronbach)\n",
    "    return pd.DataFrame(data = cronbach, columns =['Cronbach Alpha', 'LL','UL'], index = inde)"
   ]
  },
  {
   "cell_type": "code",
   "execution_count": null,
   "metadata": {},
   "outputs": [],
   "source": []
  },
  {
   "cell_type": "code",
   "execution_count": 16,
   "metadata": {
    "tags": []
   },
   "outputs": [],
   "source": [
    "#Calculating summary stats for all sheets\n",
    "def to_mean_sd(df):\n",
    "    meandf = pd.DataFrame(data=[df.describe().iloc[1].values,df.describe().iloc[2].values],\n",
    "             columns=df.describe().iloc[1].index,index=['Mean','SD'])\n",
    "    return round(meandf,2)"
   ]
  },
  {
   "cell_type": "code",
   "execution_count": 31,
   "metadata": {},
   "outputs": [],
   "source": [
    "#Calculating summary stats for all sheets\n",
    "def to_mean_sd_by_gender(secA,df):\n",
    "    frames= []\n",
    "    gen = ['M','F']\n",
    "    df_c = pd.concat([secA, df], axis=1)\n",
    "    for i,g in zip(df_c['Q1'].unique(),gen):\n",
    "        dfbg = df_c[df_c['Q1']==i]\n",
    "        #demo_CE_F = demo_CE[demo_CE['Q1']==2]\n",
    "        meandf = pd.DataFrame(data=[dfbg.describe().iloc[1].values,dfbg.describe().iloc[2].values],\n",
    "             columns=dfbg.describe().iloc[1].index,index=[f'{g}_Mean',f'{g}_SD'])\n",
    "        frames.append(meandf)\n",
    "    return round(pd.concat(frames)[df.columns],2)"
   ]
  },
  {
   "cell_type": "code",
   "execution_count": 36,
   "metadata": {},
   "outputs": [],
   "source": [
    "#Calculating summary stats for all sheets\n",
    "def to_mean_sd_by_gender_and_MS(secA,df):\n",
    "    frames= []\n",
    "    MS = ['S','M','Dp','W','D','Sep']\n",
    "    gen = ['M','F']\n",
    "    df_c = pd.concat([secA, df], axis=1)\n",
    "    for i,g in zip(df_c['Q1'].unique(),gen):\n",
    "        dfbg = df_c[df_c['Q1']==i]\n",
    "        for j,ms in zip(dfbg['Q5'].unique(),MS):\n",
    "            dfbgms = dfbg[dfbg['Q5']==j]\n",
    "        #demo_CE_F = demo_CE[demo_CE['Q1']==2]\n",
    "            meandf = pd.DataFrame(data=[dfbgms.describe().iloc[1].values,dfbgms.describe().iloc[2].values],\n",
    "            columns = dfbgms.describe().iloc[1].index,index=[f'{g}_{ms}_Mean',f'{g}_{ms}_SD'])\n",
    "            frames.append(meandf)\n",
    "    return round(pd.concat(frames)[df.columns],2)"
   ]
  },
  {
   "cell_type": "code",
   "execution_count": 7,
   "metadata": {},
   "outputs": [],
   "source": [
    "#to_mean_sd_by_gender_and_MS(secA,Self_efficacy)"
   ]
  },
  {
   "cell_type": "code",
   "execution_count": 8,
   "metadata": {},
   "outputs": [],
   "source": [
    "## Self Efficacy\n",
    "#to_mean_sd(Self_efficacy)"
   ]
  },
  {
   "cell_type": "code",
   "execution_count": 9,
   "metadata": {},
   "outputs": [],
   "source": [
    "#to_mean_sd_by_gender(secA,Self_efficacy)"
   ]
  },
  {
   "cell_type": "code",
   "execution_count": 10,
   "metadata": {},
   "outputs": [],
   "source": [
    "## Collective Efficacy\n",
    "#to_mean_sd(Collective_Efficacy)"
   ]
  },
  {
   "cell_type": "code",
   "execution_count": 11,
   "metadata": {},
   "outputs": [],
   "source": [
    "#Perceived_Severity\n",
    "#to_mean_sd(Perceived_Severity)"
   ]
  },
  {
   "cell_type": "code",
   "execution_count": 12,
   "metadata": {},
   "outputs": [],
   "source": [
    "#Perceived_Vulnerability\n",
    "#to_mean_sd(Perceived_Vulnerability)"
   ]
  },
  {
   "cell_type": "code",
   "execution_count": 13,
   "metadata": {},
   "outputs": [],
   "source": [
    "# Barriers\n",
    "#to_mean_sd(Barriers)"
   ]
  },
  {
   "cell_type": "code",
   "execution_count": 14,
   "metadata": {},
   "outputs": [],
   "source": [
    "# Drought_Adaptation\n",
    "#to_mean_sd(Drought_Adaptation)"
   ]
  },
  {
   "cell_type": "code",
   "execution_count": null,
   "metadata": {},
   "outputs": [],
   "source": []
  },
  {
   "cell_type": "code",
   "execution_count": null,
   "metadata": {},
   "outputs": [],
   "source": []
  },
  {
   "cell_type": "code",
   "execution_count": 3,
   "metadata": {},
   "outputs": [],
   "source": [
    "# Work also on a generic function that inputs a dataframe and return corresponding counts"
   ]
  },
  {
   "cell_type": "code",
   "execution_count": 4,
   "metadata": {},
   "outputs": [],
   "source": [
    "# Percentage convertion function for any counts dataframe (must be shifted to the function space) some python module\n",
    "def df_percentage(dataframe): \n",
    "    dataframe[\"Total\"] = [dataframe.iloc[i].sum() for i in range(dataframe.shape[0])]\n",
    "    percentage_data = [((dataframe[dataframe.columns[:-1]].iloc[i]/dataframe[dataframe.columns[-1]].iloc[i])*100).values for i in range(dataframe.shape[0])]\n",
    "    percentage_dataframe = pd.DataFrame(data = percentage_data, columns = dataframe.columns[:-1], index = dataframe.index)\n",
    "    return percentage_dataframe"
   ]
  },
  {
   "cell_type": "code",
   "execution_count": 5,
   "metadata": {},
   "outputs": [],
   "source": [
    "Barriers = Barriers.replace(np.nan,0)"
   ]
  },
  {
   "cell_type": "code",
   "execution_count": 6,
   "metadata": {},
   "outputs": [],
   "source": [
    "Drought_Adaptation = Drought_Adaptation.replace(np.nan,0)"
   ]
  },
  {
   "cell_type": "code",
   "execution_count": 7,
   "metadata": {},
   "outputs": [],
   "source": [
    "#Drought_Adaptation.head()"
   ]
  },
  {
   "cell_type": "code",
   "execution_count": 8,
   "metadata": {},
   "outputs": [],
   "source": [
    "Collective_Efficacy[Collective_Efficacy.columns] = Collective_Efficacy[Collective_Efficacy.columns].astype(int).astype(str)"
   ]
  },
  {
   "cell_type": "code",
   "execution_count": 9,
   "metadata": {},
   "outputs": [],
   "source": [
    "Collective_Efficacy_num = Collective_Efficacy[Collective_Efficacy.columns].astype(str).astype(int)"
   ]
  },
  {
   "cell_type": "code",
   "execution_count": 10,
   "metadata": {},
   "outputs": [],
   "source": [
    "#Self_efficacy.info()"
   ]
  },
  {
   "cell_type": "code",
   "execution_count": 11,
   "metadata": {},
   "outputs": [],
   "source": [
    "# Data Explorations\n",
    "#secB[['Q5', 'Q12']] = secB[['Q12', 'Q12']].astype(str).astype(int)"
   ]
  },
  {
   "cell_type": "code",
   "execution_count": 11,
   "metadata": {},
   "outputs": [
    {
     "data": {
      "text/plain": [
       "(384, 8)"
      ]
     },
     "execution_count": 11,
     "metadata": {},
     "output_type": "execute_result"
    }
   ],
   "source": [
    "secA.shape"
   ]
  },
  {
   "cell_type": "code",
   "execution_count": 12,
   "metadata": {},
   "outputs": [],
   "source": [
    "sections = [secA, secB, Self_efficacy, Collective_Efficacy_num, Barriers,Perceived_Vulnerability, Drought_Adaptation] "
   ]
  },
  {
   "cell_type": "markdown",
   "metadata": {
    "tags": []
   },
   "source": [
    "## Cronbach alpha for testing the internal reliability of the questionairs in relation to themes"
   ]
  },
  {
   "cell_type": "code",
   "execution_count": 13,
   "metadata": {},
   "outputs": [],
   "source": [
    "def sections_cronbach(sec_list):\n",
    "    cronbach = []\n",
    "    inde = ['secA','secB','Self_efficacy','Collective_Efficacy_num','Barriers','Perceived_Vulnerability','Drought_Adaptation'] \n",
    "    for sec in sec_list:\n",
    "        cronbach.append([pg.cronbach_alpha(data=sec)[0],pg.cronbach_alpha(data=sec)[1][0],pg.cronbach_alpha(data=sec)[1][1]])\n",
    "    #print(cronbach)\n",
    "    return pd.DataFrame(data = cronbach, columns =['Cronbach Alpha', 'LL','UL'], index = inde)"
   ]
  },
  {
   "cell_type": "code",
   "execution_count": 17,
   "metadata": {},
   "outputs": [],
   "source": [
    "round(sections_cronbach(sections),2).to_csv('cronbach_alpha_per_section.csv')"
   ]
  },
  {
   "cell_type": "code",
   "execution_count": 146,
   "metadata": {},
   "outputs": [
    {
     "data": {
      "text/plain": [
       "(0.0664822185943656, array([-0.08,  0.2 ]))"
      ]
     },
     "execution_count": 146,
     "metadata": {},
     "output_type": "execute_result"
    }
   ],
   "source": [
    "#Cronbach alpha for sectionB\n",
    "pg.cronbach_alpha(data=secB)"
   ]
  },
  {
   "cell_type": "code",
   "execution_count": 147,
   "metadata": {},
   "outputs": [
    {
     "data": {
      "text/plain": [
       "(0.7357480393068746, array([0.696, 0.773]))"
      ]
     },
     "execution_count": 147,
     "metadata": {},
     "output_type": "execute_result"
    }
   ],
   "source": [
    "#Cronbach alpha for self efficacy\n",
    "pg.cronbach_alpha(data=Self_efficacy)"
   ]
  },
  {
   "cell_type": "code",
   "execution_count": 148,
   "metadata": {},
   "outputs": [
    {
     "data": {
      "text/plain": [
       "(0.8996254535507193, array([0.882, 0.915]))"
      ]
     },
     "execution_count": 148,
     "metadata": {},
     "output_type": "execute_result"
    }
   ],
   "source": [
    "#cronbach_alpha for Collective efficacy\n",
    "pg.cronbach_alpha(data=Collective_Efficacy_num)"
   ]
  },
  {
   "cell_type": "code",
   "execution_count": 149,
   "metadata": {},
   "outputs": [
    {
     "data": {
      "text/plain": [
       "(0.8541527738762611, array([0.83 , 0.876]))"
      ]
     },
     "execution_count": 149,
     "metadata": {},
     "output_type": "execute_result"
    }
   ],
   "source": [
    "#cronbach_alpha for Perceived_Vulnerability\n",
    "pg.cronbach_alpha(data=Perceived_Vulnerability)"
   ]
  },
  {
   "cell_type": "code",
   "execution_count": 150,
   "metadata": {},
   "outputs": [
    {
     "data": {
      "text/plain": [
       "(0.38818299318750316, array([0.294, 0.475]))"
      ]
     },
     "execution_count": 150,
     "metadata": {},
     "output_type": "execute_result"
    }
   ],
   "source": [
    "#cronbach_alpha for Barriers\n",
    "pg.cronbach_alpha(data=Barriers)"
   ]
  },
  {
   "cell_type": "code",
   "execution_count": 151,
   "metadata": {},
   "outputs": [
    {
     "data": {
      "text/plain": [
       "(0.37602463871120584, array([0.281, 0.464]))"
      ]
     },
     "execution_count": 151,
     "metadata": {},
     "output_type": "execute_result"
    }
   ],
   "source": [
    "#cronbach_alpha for Drought_Adaptation\n",
    "pg.cronbach_alpha(data=Drought_Adaptation)"
   ]
  },
  {
   "cell_type": "markdown",
   "metadata": {
    "tags": []
   },
   "source": [
    "## Demographics"
   ]
  },
  {
   "cell_type": "code",
   "execution_count": 196,
   "metadata": {
    "collapsed": true,
    "jupyter": {
     "outputs_hidden": true
    },
    "tags": []
   },
   "outputs": [
    {
     "name": "stdout",
     "output_type": "stream",
     "text": [
      "<class 'pandas.core.frame.DataFrame'>\n",
      "RangeIndex: 384 entries, 0 to 383\n",
      "Data columns (total 8 columns):\n",
      " #   Column  Non-Null Count  Dtype  \n",
      "---  ------  --------------  -----  \n",
      " 0   Q1      384 non-null    int64  \n",
      " 1   Q2      384 non-null    int64  \n",
      " 2   Q3      384 non-null    int64  \n",
      " 3   Q4      384 non-null    int64  \n",
      " 4   Q5      384 non-null    int64  \n",
      " 5   Q6      383 non-null    float64\n",
      " 6   Q7      384 non-null    int64  \n",
      " 7   Q8      384 non-null    int64  \n",
      "dtypes: float64(1), int64(7)\n",
      "memory usage: 24.1 KB\n"
     ]
    }
   ],
   "source": [
    "secA.info()"
   ]
  },
  {
   "cell_type": "code",
   "execution_count": null,
   "metadata": {},
   "outputs": [],
   "source": []
  },
  {
   "cell_type": "code",
   "execution_count": null,
   "metadata": {},
   "outputs": [],
   "source": []
  },
  {
   "cell_type": "markdown",
   "metadata": {},
   "source": [
    "# Combining different sections for further analysis"
   ]
  },
  {
   "cell_type": "markdown",
   "metadata": {
    "tags": []
   },
   "source": [
    "## Collective Efficacy"
   ]
  },
  {
   "cell_type": "code",
   "execution_count": null,
   "metadata": {},
   "outputs": [],
   "source": [
    "#section A (The demographics) with questions addressing self efficacy\n",
    "demo_CE = pd.concat([secA, Collective_Efficacy], axis=1)"
   ]
  },
  {
   "cell_type": "code",
   "execution_count": null,
   "metadata": {},
   "outputs": [],
   "source": [
    "def cat_counter(demo_CE):\n",
    "    \"\"\"Counts of collective efficacy likertscale values for the whole dataset\"\"\"\n",
    "    cat_counts_all = [] \n",
    "    for quest in demo_CE.columns[-4:]:\n",
    "        cat_counts = [Counter(demo_CE[quest])[k] for k in '12345']\n",
    "        cat_counts_all.append(cat_counts)              \n",
    "    return pd.DataFrame(data = cat_counts_all,columns = ['Strongly disagree','Disagree','Neutral','Agree','Strongly agree'],\n",
    "                        index = ['Q1','Q2','Q3','Q4'])           \n",
    "            "
   ]
  },
  {
   "cell_type": "code",
   "execution_count": null,
   "metadata": {},
   "outputs": [],
   "source": [
    "#grouped_CE = demo_CE.groupby(['Q1', 'Q5'])\n",
    "\n",
    "# Step 4: Aggregating the data\n",
    "#grouped_cnt = grouped_CE.count()\n"
   ]
  },
  {
   "cell_type": "code",
   "execution_count": null,
   "metadata": {},
   "outputs": [],
   "source": [
    "#Saving result to CSV for further analysis if need be\n",
    "#cat_counter(demo_CE).to_csv('All_CE.csv')"
   ]
  },
  {
   "cell_type": "code",
   "execution_count": null,
   "metadata": {},
   "outputs": [],
   "source": [
    "def cat_counter_G(demo_CE):\n",
    "    \"\"\"Counts of collective efficacy likertscale values for the dataset split by gender\"\"\"\n",
    "    cat_countsM = [] \n",
    "    cat_countsF = [] \n",
    "    demo_CE_M = demo_CE[demo_CE['Q1']==1]\n",
    "    demo_CE_F = demo_CE[demo_CE['Q1']==2]\n",
    "    for quest in demo_CE.columns[-4:]:\n",
    "        cat_counts_M = [Counter(demo_CE_M[quest])[k] for k in '12345']\n",
    "        cat_counts_F = [Counter(demo_CE_F[quest])[k] for k in '12345']\n",
    "        cat_countsM.append(cat_counts_M)\n",
    "        cat_countsF.append(cat_counts_F)        \n",
    "    return pd.DataFrame(data = cat_countsM,columns = ['Strongly disagree','Disagree','Neutral','Agree','Strongly agree'],\n",
    "                        index = ['M_q1','M_q2','M_q3','M_q4']), pd.DataFrame(data = cat_countsF,columns = ['Strongly disagree','Disagree','Neutral','Agree','Strongly agree'],\n",
    "                        index = ['F_q1','F_q2','F_q3','F_q4']) \n",
    "           \n",
    "            "
   ]
  },
  {
   "cell_type": "code",
   "execution_count": null,
   "metadata": {},
   "outputs": [],
   "source": [
    "#Saving the generated dataframes 0 for males and 1 for females\n",
    "#cat_counter_G(demo_CE)[1].to_csv('FeMale_CE.csv')"
   ]
  },
  {
   "cell_type": "code",
   "execution_count": null,
   "metadata": {},
   "outputs": [],
   "source": [
    "def cat_counter_G_MS(demo_CE):\n",
    "    \"\"\"Counts of collective efficacy likertscale values for the dataset split first by gender and then by Marital Status\"\"\"\n",
    "    cat_countsM = [] \n",
    "    cat_countsF = [] \n",
    "    demo_CE_M = demo_CE[demo_CE['Q1']==1]\n",
    "    demo_CE_F = demo_CE[demo_CE['Q1']==2]\n",
    "    for i in demo_CE['Q5'].unique():\n",
    "        M_ms_cati = demo_CE_M[demo_CE_M['Q5'] == i]\n",
    "        F_ms_cati = demo_CE_F[demo_CE_F['Q5'] == i]\n",
    "        for quest in demo_CE.columns[-4:]:\n",
    "            cat_counts_M = [Counter(M_ms_cati[quest])[k] for k in '12345']\n",
    "            cat_counts_F = [Counter(F_ms_cati[quest])[k] for k in '12345']\n",
    "            cat_countsM.append(cat_counts_M)\n",
    "            cat_countsF.append(cat_counts_F)\n",
    "        \n",
    "    return pd.DataFrame(data = cat_countsM,columns = ['Strongly disagree','Disagree','Neutral','Agree','Strongly agree'],\n",
    "                        index = ['M_S_q1','M_S_q2', 'M_S_q3','M_S_q4','M_M_q1','M_M_q2','M_M_q3','M_M_q4', \n",
    "                                 'M_Dp_q1','M_Dp_q2','M_Dp_q3','M_Dp_q4','M_W_q1','M_W_q2','M_W_q3','M_W_q4',\n",
    "                                 'M_D_q1','M_D_q2','M_D_q3','M_D_q4','M_Sep_q1','M_Sep_q2','M_Sep_q3','M_Sep_q4']), pd.DataFrame(data = cat_countsF,columns = ['Strongly disagree','Disagree','Neutral','Agree','Strongly agree'],\n",
    "                        index = ['F_S_q1','F_S_q2', 'F_S_q3','F_S_q4','F_M_q1','F_M_q2','F_M_q3','F_M_q4', \n",
    "                                 'F_Dp_q1','F_Dp_q2','F_Dp_q3','F_Dp_q4','F_W_q1','F_W_q2','F_W_q3','F_W_q4',\n",
    "                                 'F_D_q1','F_D_q2','F_D_q3','F_D_q4','F_Sep_q1','F_Sep_q2','F_Sep_q3','F_Sep_q4']) \n",
    "           \n",
    "            "
   ]
  },
  {
   "cell_type": "code",
   "execution_count": null,
   "metadata": {},
   "outputs": [],
   "source": [
    "#Saving the resulting dataframes 0 for male and 1 for females\n",
    "#cat_counter_G_MS(demo_CE)[0].to_csv('Male_MS_CE.csv')"
   ]
  },
  {
   "cell_type": "markdown",
   "metadata": {
    "tags": []
   },
   "source": [
    "## Percieved Severity "
   ]
  },
  {
   "cell_type": "code",
   "execution_count": null,
   "metadata": {},
   "outputs": [],
   "source": [
    "#section A (The demographics) with questions addressing self efficacy\n",
    "demo_PS = pd.concat([secA, Perceived_Severity], axis=1)"
   ]
  },
  {
   "cell_type": "code",
   "execution_count": null,
   "metadata": {},
   "outputs": [],
   "source": [
    "#demo_PS.head()"
   ]
  },
  {
   "cell_type": "code",
   "execution_count": null,
   "metadata": {},
   "outputs": [],
   "source": [
    "Counter(demo_PS['Qc2'])"
   ]
  },
  {
   "cell_type": "code",
   "execution_count": null,
   "metadata": {},
   "outputs": [],
   "source": [
    "def cat_counter_PS(demo_PS):\n",
    "    \"\"\"Counts of collective efficacy likertscale values for the whole dataset\"\"\"\n",
    "    cat_counts_all = [] \n",
    "    for quest in demo_PS.columns[-1:]:\n",
    "        cat_counts = [Counter(demo_PS[quest])[k+1] for k in range(5)]\n",
    "        cat_counts_all.append(cat_counts)              \n",
    "    return pd.DataFrame(data = cat_counts_all,columns = ['Not Serious','Less Serious','Undecided','Serious','Very serious'],\n",
    "                        index = ['Qc2'])           \n",
    "            "
   ]
  },
  {
   "cell_type": "code",
   "execution_count": null,
   "metadata": {},
   "outputs": [],
   "source": [
    "#Saving result to CSV for further analysis if need be\n",
    "#cat_counter_PS(demo_PS).to_csv('All_PS.csv')"
   ]
  },
  {
   "cell_type": "code",
   "execution_count": null,
   "metadata": {},
   "outputs": [],
   "source": [
    "cat_counter_PS(demo_PS)"
   ]
  },
  {
   "cell_type": "code",
   "execution_count": null,
   "metadata": {},
   "outputs": [],
   "source": [
    "def cat_counter_PS_by_Gender(demo_PS):\n",
    "    \"\"\"Counts of Perceived Severity likertscale values for the dataset split by gender\"\"\"\n",
    "    cat_countsM = [] \n",
    "    cat_countsF = [] \n",
    "    demo_CE_M = demo_PS[demo_PS['Q1']==1]\n",
    "    demo_CE_F = demo_PS[demo_PS['Q1']==2]\n",
    "    for quest in demo_PS.columns[-1:]:\n",
    "        cat_counts_M = [Counter(demo_CE_M[quest])[k+1] for k in range(5)]\n",
    "        cat_counts_F = [Counter(demo_CE_F[quest])[k+1] for k in range(5)]\n",
    "        cat_countsM.append(cat_counts_M)\n",
    "        cat_countsF.append(cat_counts_F)        \n",
    "    return pd.DataFrame(data = cat_countsM,columns = ['Not Serious','Less Serious','Undecided','Serious','Very serious'],\n",
    "                        index = ['M_Qc2']), pd.DataFrame(data = cat_countsF,columns = ['Strongly disagree','Disagree','Neutral','Agree','Strongly agree'],\n",
    "                        index = ['F_Qc2'])          \n",
    "            "
   ]
  },
  {
   "cell_type": "code",
   "execution_count": null,
   "metadata": {},
   "outputs": [],
   "source": [
    "cat_counter_PS_by_Gender(demo_PS)[1]"
   ]
  },
  {
   "cell_type": "code",
   "execution_count": null,
   "metadata": {},
   "outputs": [],
   "source": [
    "#cat_counter_PS_by_Gender(demo_PS)[1].to_csv('Female_PS.csv')"
   ]
  },
  {
   "cell_type": "code",
   "execution_count": null,
   "metadata": {},
   "outputs": [],
   "source": [
    "def cat_counter_PS_by_Gender_and_MS(demo_PS):\n",
    "    \"\"\"Counts of Perceived Severity likertscale values for the dataset split first by gender and then by Marital Status\"\"\"\n",
    "    cat_countsM = [] \n",
    "    cat_countsF = [] \n",
    "    demo_CE_M = demo_PS[demo_PS['Q1']==1]\n",
    "    demo_CE_F = demo_PS[demo_PS['Q1']==2]\n",
    "    for i in demo_PS['Q5'].unique():\n",
    "        M_ms_cati = demo_CE_M[demo_CE_M['Q5'] == i]\n",
    "        F_ms_cati = demo_CE_F[demo_CE_F['Q5'] == i]\n",
    "        for quest in demo_PS.columns[-1:]:\n",
    "            cat_counts_M = [Counter(M_ms_cati[quest])[k+1] for k in range(5)]\n",
    "            cat_counts_F = [Counter(F_ms_cati[quest])[k+1] for k in range(5)]\n",
    "            cat_countsM.append(cat_counts_M)\n",
    "            cat_countsF.append(cat_counts_F)\n",
    "        \n",
    "    return pd.DataFrame(data = cat_countsM,columns = ['Strongly disagree','Disagree','Neutral','Agree','Strongly agree'],\n",
    "                        index = ['M_S_Qc2','M_M_Qc2','M_Dp_Qc2','M_W_Qc2','M_D_Qc2','M_Sep_Qc2']), pd.DataFrame(data = cat_countsF,columns = ['Strongly disagree','Disagree','Neutral','Agree','Strongly agree'],\n",
    "                        index = ['F_S_Qc2','F_M_Qc2','F_Dp_Qc2','F_W_Qc2','F_D_Qc2','F_Sep_Qc2']) \n",
    " "
   ]
  },
  {
   "cell_type": "code",
   "execution_count": null,
   "metadata": {},
   "outputs": [],
   "source": [
    "#cat_counter_PS_by_Gender_and_MS(demo_PS)[1].to_csv('Female_MS_PS.csv')"
   ]
  },
  {
   "cell_type": "code",
   "execution_count": null,
   "metadata": {},
   "outputs": [],
   "source": [
    "cat_counter_PS_by_Gender_and_MS(demo_PS)[1]"
   ]
  },
  {
   "cell_type": "markdown",
   "metadata": {
    "jp-MarkdownHeadingCollapsed": true,
    "tags": []
   },
   "source": [
    "## Perceived Vulnerability"
   ]
  },
  {
   "cell_type": "code",
   "execution_count": 19,
   "metadata": {},
   "outputs": [],
   "source": [
    "#section A (The demographics) with questions addressing self efficacy\n",
    "demo_PV = pd.concat([secA, Perceived_Vulnerability], axis=1)"
   ]
  },
  {
   "cell_type": "code",
   "execution_count": 20,
   "metadata": {
    "tags": []
   },
   "outputs": [],
   "source": [
    "demo_PV[demo_PV.columns[-1:]] = demo_PV[demo_PV.columns[-1:]].astype(int)"
   ]
  },
  {
   "cell_type": "code",
   "execution_count": 21,
   "metadata": {},
   "outputs": [],
   "source": [
    "demo_PV['Q6'] = demo_PV['Q6'].fillna(demo_PV['Q6'].mode()[0])\n"
   ]
  },
  {
   "cell_type": "code",
   "execution_count": 22,
   "metadata": {},
   "outputs": [],
   "source": [
    "demo_PV[demo_PV.columns[-6:]] = demo_PV[demo_PV.columns[-6:]].astype(int).astype(str)"
   ]
  },
  {
   "cell_type": "code",
   "execution_count": 23,
   "metadata": {},
   "outputs": [],
   "source": [
    "#demo_PV.columns[-6:]"
   ]
  },
  {
   "cell_type": "code",
   "execution_count": 24,
   "metadata": {},
   "outputs": [],
   "source": [
    "def cat_counter_PV(demo_PV):\n",
    "    \"\"\"Counts of collective efficacy likertscale values for the whole dataset\"\"\"\n",
    "    cat_counts_all = [] \n",
    "    for quest in demo_PV.columns[-6:]:\n",
    "        cat_counts = [Counter(demo_PV[quest])[k] for k in '12345']\n",
    "        cat_counts_all.append(cat_counts)              \n",
    "    return pd.DataFrame(data = cat_counts_all,columns = ['Not vulnerable','Much less vulnerable','Less Vulnerable','Vulnerable','Highly vulnerable'],\n",
    "                        index = ['Q1','Q2','Q3','Q4','Q5','Q6'])           \n",
    "            "
   ]
  },
  {
   "cell_type": "code",
   "execution_count": 19,
   "metadata": {
    "tags": []
   },
   "outputs": [],
   "source": [
    "#cat_counter_PV(demo_PV).to_csv('All_Counts_PV.csv')"
   ]
  },
  {
   "cell_type": "code",
   "execution_count": 25,
   "metadata": {},
   "outputs": [],
   "source": [
    "#Percentages\n",
    "cat_percentage_PV = df_percentage(cat_counter_PV(demo_PV))\n",
    "round(cat_percentage_PV,2).to_csv('All_percentage_PV.csv')"
   ]
  },
  {
   "cell_type": "code",
   "execution_count": 26,
   "metadata": {},
   "outputs": [],
   "source": [
    "def cat_counter_PV_by_Gender(demo_PV):\n",
    "    \"\"\"Counts of collective efficacy likertscale values for the dataset split by gender\"\"\"\n",
    "    cat_countsM = [] \n",
    "    cat_countsF = [] \n",
    "    demo_CE_M = demo_PV[demo_PV['Q1']==1]\n",
    "    demo_CE_F = demo_PV[demo_PV['Q1']==2]\n",
    "    for quest in demo_PV.columns[-6:]:\n",
    "        cat_counts_M = [Counter(demo_CE_M[quest])[k] for k in '12345']\n",
    "        cat_counts_F = [Counter(demo_CE_F[quest])[k] for k in '12345']\n",
    "        cat_countsM.append(cat_counts_M)\n",
    "        cat_countsF.append(cat_counts_F)        \n",
    "    return pd.DataFrame(data = cat_countsM,columns = ['Not vulnerable','Much less vulnerable','Less Vulnerable','Vulnerable','Highly vulnerable'],\n",
    "                        index = ['M_q1','M_q2','M_q3','M_q4','M_q5','M_q6']), pd.DataFrame(data = cat_countsF,columns = ['Not vulnerable','Much less vulnerable','Less Vulnerable','Vulnerable','Highly vulnerable'],\n",
    "                        index = ['F_q1','F_q2','F_q3','F_q4','F_q5','F_q6']) \n",
    "           \n",
    "            "
   ]
  },
  {
   "cell_type": "code",
   "execution_count": 27,
   "metadata": {},
   "outputs": [],
   "source": [
    "cat_counter_PV_by_Gender(demo_PV)[0].to_csv('All_Counts_M_PV.csv')\n",
    "cat_counter_PV_by_Gender(demo_PV)[1].to_csv('All_Counts_F_PV.csv')"
   ]
  },
  {
   "cell_type": "code",
   "execution_count": 45,
   "metadata": {},
   "outputs": [],
   "source": [
    "round(df_percentage(cat_counter_PV_by_Gender(demo_PV)[0]),2).to_csv('percentage_M_PV.csv')\n",
    "round(df_percentage(cat_counter_PV_by_Gender(demo_PV)[1]),2).to_csv('percentage_F_PV.csv')"
   ]
  },
  {
   "cell_type": "code",
   "execution_count": 29,
   "metadata": {},
   "outputs": [],
   "source": [
    "def cat_counter_PV_by_gender_and_MS(demo_PV):\n",
    "    \"\"\"Counts of collective efficacy likertscale values for the dataset split first by gender and then by Marital Status\"\"\"\n",
    "    cat_countsM = [] \n",
    "    cat_countsF = [] \n",
    "    demo_CE_M = demo_PV[demo_PV['Q1']==1]\n",
    "    demo_CE_F = demo_PV[demo_PV['Q1']==2]\n",
    "    for i in demo_PV['Q5'].unique():\n",
    "        M_ms_cati = demo_CE_M[demo_CE_M['Q5'] == i]\n",
    "        F_ms_cati = demo_CE_F[demo_CE_F['Q5'] == i]\n",
    "        for quest in demo_PV.columns[-6:]:\n",
    "            cat_counts_M = [Counter(M_ms_cati[quest])[k] for k in '12345']\n",
    "            cat_counts_F = [Counter(F_ms_cati[quest])[k] for k in '12345']\n",
    "            cat_countsM.append(cat_counts_M)\n",
    "            cat_countsF.append(cat_counts_F)\n",
    "        \n",
    "    return pd.DataFrame(data = cat_countsM,columns = ['Strongly disagree','Disagree','Neutral','Agree','Strongly agree'],\n",
    "                        index = ['M_S_q1','M_S_q2', 'M_S_q3','M_S_q4','M_S_q5','M_S_q6','M_M_q1','M_M_q2','M_M_q3','M_M_q4','M_M_q5','M_M_q6', \n",
    "                                 'M_Dp_q1','M_Dp_q2','M_Dp_q3','M_Dp_q4','M_Dp_q5','M_Dp_q6','M_W_q1','M_W_q2','M_W_q3','M_W_q4','M_W_q5','M_W_q6',\n",
    "                                 'M_D_q1','M_D_q2','M_D_q3','M_D_q4','M_D_q5','M_D_q6','M_Sep_q1','M_Sep_q2','M_Sep_q3','M_Sep_q4','M_Sep_q5','M_Sep_q6']), pd.DataFrame(data = cat_countsF,columns = ['Strongly disagree','Disagree','Neutral','Agree','Strongly agree'],\n",
    "                        index = ['F_S_q1','F_S_q2', 'F_S_q3','F_S_q4','F_S_q5','F_S_q6','F_M_q1','F_M_q2','F_M_q3','F_M_q4','F_M_q5','F_M_q6', \n",
    "                                 'F_Dp_q1','F_Dp_q2','F_Dp_q3','F_Dp_q4','F_Dp_q5','F_Dp_q6','F_W_q1','F_W_q2','F_W_q3','F_W_q4','F_W_q5','F_W_q6',\n",
    "                                 'F_D_q1','F_D_q2','F_D_q3','F_D_q4','F_D_q5','F_D_q6','F_Sep_q1','F_Sep_q2','F_Sep_q3','F_Sep_q4','F_Sep_q5','F_Sep_q6']) \n",
    "           \n",
    "            "
   ]
  },
  {
   "cell_type": "code",
   "execution_count": 30,
   "metadata": {},
   "outputs": [],
   "source": [
    "cat_counter_PV_by_gender_and_MS(demo_PV)[0].to_csv('All_Counts_M_MS_PV.csv')\n",
    "cat_counter_PV_by_gender_and_MS(demo_PV)[1].to_csv('All_Counts_F_MS_PV.csv')"
   ]
  },
  {
   "cell_type": "code",
   "execution_count": 44,
   "metadata": {
    "tags": []
   },
   "outputs": [],
   "source": [
    "cat_percentage_PV_M_and_MS = df_percentage(cat_counter_PV_by_gender_and_MS(demo_PV)[0]).replace(np.nan,0)\n",
    "round(cat_percentage_PV_M_and_MS,2).to_csv('percentage_M_MS_PV.csv')\n",
    "cat_percentage_PV_F_and_MS = df_percentage(cat_counter_PV_by_gender_and_MS(demo_PV)[1]).replace(np.nan,0)\n",
    "round(cat_percentage_PV_F_and_MS,2).to_csv('percentage_F_MS_PV.csv')"
   ]
  },
  {
   "cell_type": "code",
   "execution_count": 65,
   "metadata": {},
   "outputs": [],
   "source": [
    "#cat_percentage_PV_F_and_MS.replace(np.nan,0)"
   ]
  },
  {
   "cell_type": "code",
   "execution_count": 56,
   "metadata": {},
   "outputs": [],
   "source": [
    "#df_percentage(cat_counter_SE_by_gender_and_MS(demo_SE)[0])"
   ]
  },
  {
   "cell_type": "markdown",
   "metadata": {
    "jp-MarkdownHeadingCollapsed": true,
    "tags": []
   },
   "source": [
    "## Self Efficacy"
   ]
  },
  {
   "cell_type": "code",
   "execution_count": 35,
   "metadata": {},
   "outputs": [],
   "source": [
    "#section A (The demographics) with questions addressing self efficacy\n",
    "demo_SE = pd.concat([secA, Self_efficacy[Self_efficacy.columns[:-1]]], axis=1)"
   ]
  },
  {
   "cell_type": "code",
   "execution_count": 36,
   "metadata": {},
   "outputs": [],
   "source": [
    "demo_SE['Q6'] = demo_SE['Q6'].fillna(demo_SE['Q6'].mode()[0])\n",
    "demo_SE['Q4_5'] = demo_SE['Q4_5'].fillna(demo_SE['Q4_5'].mode()[0])\n",
    "demo_SE['Q4_8'] = demo_SE['Q4_8'].fillna(demo_SE['Q4_8'].mode()[0])\n",
    "demo_SE['Q4_11'] = demo_SE['Q4_11'].fillna(demo_SE['Q4_11'].mode()[0])"
   ]
  },
  {
   "cell_type": "code",
   "execution_count": 37,
   "metadata": {},
   "outputs": [],
   "source": [
    "#demo_SE.info()"
   ]
  },
  {
   "cell_type": "code",
   "execution_count": 38,
   "metadata": {},
   "outputs": [],
   "source": [
    "demo_SE[['Q4_5','Q4_8','Q4_11']] = demo_SE[['Q4_5','Q4_8','Q4_11']].astype(int)"
   ]
  },
  {
   "cell_type": "code",
   "execution_count": 39,
   "metadata": {},
   "outputs": [],
   "source": [
    "demo_SE[demo_SE.columns[-15:]] = demo_SE[demo_SE.columns[-15:]].astype(int).astype(str)"
   ]
  },
  {
   "cell_type": "code",
   "execution_count": 40,
   "metadata": {
    "tags": []
   },
   "outputs": [],
   "source": [
    "def cat_counter_SE(demo_SE):\n",
    "    \"\"\"Counts of collective efficacy likertscale values for the whole dataset\"\"\"\n",
    "    cat_counts_all = [] \n",
    "    for quest in demo_SE.columns[-15:]:\n",
    "        cat_counts = [Counter(demo_SE[quest])[k] for k in '12345']\n",
    "        cat_counts_all.append(cat_counts)              \n",
    "    return pd.DataFrame(data = cat_counts_all,columns = ['Strongly unable to perform','Unable to perform','Neutral','Able to perform','Strongly able to perform'],\n",
    "                        index = demo_SE.columns[-15:])           \n",
    "           "
   ]
  },
  {
   "cell_type": "code",
   "execution_count": 24,
   "metadata": {},
   "outputs": [],
   "source": [
    "#cat_counter_SE(demo_SE).head()"
   ]
  },
  {
   "cell_type": "code",
   "execution_count": 41,
   "metadata": {
    "tags": []
   },
   "outputs": [],
   "source": [
    "# Counts\n",
    "cat_counter_SE(demo_SE).to_csv('All_Counts_SE.csv')"
   ]
  },
  {
   "cell_type": "code",
   "execution_count": 43,
   "metadata": {},
   "outputs": [],
   "source": [
    "#Percentages\n",
    "cat_percentage_SE = df_percentage(cat_counter_SE(demo_SE))\n",
    "round(cat_percentage_SE,2).to_csv('All_percentage_SE.csv')"
   ]
  },
  {
   "cell_type": "code",
   "execution_count": 46,
   "metadata": {},
   "outputs": [
    {
     "data": {
      "text/html": [
       "<div>\n",
       "<style scoped>\n",
       "    .dataframe tbody tr th:only-of-type {\n",
       "        vertical-align: middle;\n",
       "    }\n",
       "\n",
       "    .dataframe tbody tr th {\n",
       "        vertical-align: top;\n",
       "    }\n",
       "\n",
       "    .dataframe thead th {\n",
       "        text-align: right;\n",
       "    }\n",
       "</style>\n",
       "<table border=\"1\" class=\"dataframe\">\n",
       "  <thead>\n",
       "    <tr style=\"text-align: right;\">\n",
       "      <th></th>\n",
       "      <th>Strongly unable to perform</th>\n",
       "      <th>Unable to perform</th>\n",
       "      <th>Neutral</th>\n",
       "      <th>Able to perform</th>\n",
       "      <th>Strongly able to perform</th>\n",
       "    </tr>\n",
       "  </thead>\n",
       "  <tbody>\n",
       "    <tr>\n",
       "      <th>Q4_1</th>\n",
       "      <td>2.34</td>\n",
       "      <td>5.99</td>\n",
       "      <td>19.01</td>\n",
       "      <td>30.21</td>\n",
       "      <td>42.45</td>\n",
       "    </tr>\n",
       "    <tr>\n",
       "      <th>Q4_2</th>\n",
       "      <td>19.79</td>\n",
       "      <td>6.51</td>\n",
       "      <td>15.89</td>\n",
       "      <td>34.11</td>\n",
       "      <td>23.70</td>\n",
       "    </tr>\n",
       "    <tr>\n",
       "      <th>Q4_3</th>\n",
       "      <td>1.30</td>\n",
       "      <td>6.25</td>\n",
       "      <td>16.93</td>\n",
       "      <td>33.07</td>\n",
       "      <td>42.45</td>\n",
       "    </tr>\n",
       "    <tr>\n",
       "      <th>Q4_4</th>\n",
       "      <td>10.94</td>\n",
       "      <td>13.54</td>\n",
       "      <td>26.30</td>\n",
       "      <td>20.83</td>\n",
       "      <td>28.39</td>\n",
       "    </tr>\n",
       "    <tr>\n",
       "      <th>Q4_5</th>\n",
       "      <td>1.82</td>\n",
       "      <td>5.21</td>\n",
       "      <td>22.92</td>\n",
       "      <td>33.85</td>\n",
       "      <td>36.20</td>\n",
       "    </tr>\n",
       "    <tr>\n",
       "      <th>Q4_6</th>\n",
       "      <td>3.39</td>\n",
       "      <td>7.81</td>\n",
       "      <td>23.70</td>\n",
       "      <td>27.60</td>\n",
       "      <td>37.50</td>\n",
       "    </tr>\n",
       "    <tr>\n",
       "      <th>Q4_7</th>\n",
       "      <td>2.08</td>\n",
       "      <td>3.65</td>\n",
       "      <td>16.93</td>\n",
       "      <td>32.81</td>\n",
       "      <td>44.53</td>\n",
       "    </tr>\n",
       "    <tr>\n",
       "      <th>Q4_8</th>\n",
       "      <td>2.08</td>\n",
       "      <td>2.60</td>\n",
       "      <td>17.71</td>\n",
       "      <td>36.46</td>\n",
       "      <td>41.15</td>\n",
       "    </tr>\n",
       "    <tr>\n",
       "      <th>Q4_9</th>\n",
       "      <td>5.99</td>\n",
       "      <td>7.29</td>\n",
       "      <td>27.08</td>\n",
       "      <td>26.04</td>\n",
       "      <td>33.59</td>\n",
       "    </tr>\n",
       "    <tr>\n",
       "      <th>Q4_10</th>\n",
       "      <td>17.45</td>\n",
       "      <td>17.45</td>\n",
       "      <td>25.52</td>\n",
       "      <td>13.28</td>\n",
       "      <td>26.30</td>\n",
       "    </tr>\n",
       "    <tr>\n",
       "      <th>Q4_11</th>\n",
       "      <td>57.55</td>\n",
       "      <td>16.93</td>\n",
       "      <td>19.53</td>\n",
       "      <td>3.12</td>\n",
       "      <td>2.86</td>\n",
       "    </tr>\n",
       "    <tr>\n",
       "      <th>Q4_12</th>\n",
       "      <td>52.60</td>\n",
       "      <td>12.50</td>\n",
       "      <td>27.08</td>\n",
       "      <td>6.51</td>\n",
       "      <td>1.30</td>\n",
       "    </tr>\n",
       "    <tr>\n",
       "      <th>Q4_13</th>\n",
       "      <td>63.28</td>\n",
       "      <td>15.62</td>\n",
       "      <td>19.79</td>\n",
       "      <td>0.78</td>\n",
       "      <td>0.52</td>\n",
       "    </tr>\n",
       "    <tr>\n",
       "      <th>Q4_14</th>\n",
       "      <td>38.02</td>\n",
       "      <td>18.49</td>\n",
       "      <td>23.44</td>\n",
       "      <td>7.03</td>\n",
       "      <td>13.02</td>\n",
       "    </tr>\n",
       "    <tr>\n",
       "      <th>Q4_15</th>\n",
       "      <td>31.77</td>\n",
       "      <td>11.46</td>\n",
       "      <td>20.05</td>\n",
       "      <td>18.23</td>\n",
       "      <td>18.49</td>\n",
       "    </tr>\n",
       "  </tbody>\n",
       "</table>\n",
       "</div>"
      ],
      "text/plain": [
       "       Strongly unable to perform  Unable to perform  Neutral  \\\n",
       "Q4_1                         2.34               5.99    19.01   \n",
       "Q4_2                        19.79               6.51    15.89   \n",
       "Q4_3                         1.30               6.25    16.93   \n",
       "Q4_4                        10.94              13.54    26.30   \n",
       "Q4_5                         1.82               5.21    22.92   \n",
       "Q4_6                         3.39               7.81    23.70   \n",
       "Q4_7                         2.08               3.65    16.93   \n",
       "Q4_8                         2.08               2.60    17.71   \n",
       "Q4_9                         5.99               7.29    27.08   \n",
       "Q4_10                       17.45              17.45    25.52   \n",
       "Q4_11                       57.55              16.93    19.53   \n",
       "Q4_12                       52.60              12.50    27.08   \n",
       "Q4_13                       63.28              15.62    19.79   \n",
       "Q4_14                       38.02              18.49    23.44   \n",
       "Q4_15                       31.77              11.46    20.05   \n",
       "\n",
       "       Able to perform  Strongly able to perform  \n",
       "Q4_1             30.21                     42.45  \n",
       "Q4_2             34.11                     23.70  \n",
       "Q4_3             33.07                     42.45  \n",
       "Q4_4             20.83                     28.39  \n",
       "Q4_5             33.85                     36.20  \n",
       "Q4_6             27.60                     37.50  \n",
       "Q4_7             32.81                     44.53  \n",
       "Q4_8             36.46                     41.15  \n",
       "Q4_9             26.04                     33.59  \n",
       "Q4_10            13.28                     26.30  \n",
       "Q4_11             3.12                      2.86  \n",
       "Q4_12             6.51                      1.30  \n",
       "Q4_13             0.78                      0.52  \n",
       "Q4_14             7.03                     13.02  \n",
       "Q4_15            18.23                     18.49  "
      ]
     },
     "execution_count": 46,
     "metadata": {},
     "output_type": "execute_result"
    }
   ],
   "source": [
    "cat_percentage_SE.round(2)"
   ]
  },
  {
   "cell_type": "code",
   "execution_count": 28,
   "metadata": {},
   "outputs": [],
   "source": [
    "#df_percentage(cat_counter_SE(demo_SE))"
   ]
  },
  {
   "cell_type": "code",
   "execution_count": 47,
   "metadata": {},
   "outputs": [],
   "source": [
    "def cat_counter_SE_by_Gender(demo_SE):\n",
    "    \"\"\"Counts of self efficacy likertscale values for the dataset split by gender\"\"\"\n",
    "    cat_countsM = [] \n",
    "    cat_countsF = [] \n",
    "    demo_CE_M = demo_SE[demo_SE['Q1']==1]\n",
    "    demo_CE_F = demo_SE[demo_SE['Q1']==2]\n",
    "    for quest in demo_SE.columns[-15:]:\n",
    "        cat_counts_M = [Counter(demo_CE_M[quest])[k] for k in '12345']\n",
    "        cat_counts_F = [Counter(demo_CE_F[quest])[k] for k in '12345']\n",
    "        cat_countsM.append(cat_counts_M)\n",
    "        cat_countsF.append(cat_counts_F)        \n",
    "    return pd.DataFrame(data = cat_countsM,columns = ['Strongly unable to perform','Unable to perform','Neutral','Able to perform','Strongly able to perform'],\n",
    "                        index = ['M_'+ quest for quest in demo_SE.columns[-15:]]), pd.DataFrame(data = cat_countsF,columns = ['Strongly unable to perform','Unable to perform','Neutral','Able to perform','Strongly able to perform'],\n",
    "                        index = ['F_'+ quest for quest in demo_SE.columns[-15:]]) \n",
    "           \n",
    "            "
   ]
  },
  {
   "cell_type": "code",
   "execution_count": 48,
   "metadata": {},
   "outputs": [],
   "source": [
    "cat_counter_SE_by_Gender(demo_SE)[0].to_csv('All_Counts_M_SE.csv')\n",
    "cat_counter_SE_by_Gender(demo_SE)[1].to_csv('All_Counts_F_SE.csv')"
   ]
  },
  {
   "cell_type": "code",
   "execution_count": 49,
   "metadata": {},
   "outputs": [],
   "source": [
    "round(df_percentage(cat_counter_SE_by_Gender(demo_SE)[0]),2).to_csv('percentage_M_SE.csv')\n",
    "round(df_percentage(cat_counter_SE_by_Gender(demo_SE)[1]),2).to_csv('percentage_F_SE.csv')"
   ]
  },
  {
   "cell_type": "code",
   "execution_count": 50,
   "metadata": {},
   "outputs": [],
   "source": [
    "def cat_counter_SE_by_gender_and_MS(demo_SE):\n",
    "    \"\"\"Counts of collective efficacy likertscale values for the dataset split first by gender and then by Marital Status\"\"\"\n",
    "    indM =[]\n",
    "    indF =[]\n",
    "    cat_countsM = [] \n",
    "    cat_countsF = [] \n",
    "    MS = ['S','M','Dp','W','D','Sep']\n",
    "    demo_CE_M = demo_SE[demo_SE['Q1']==1]\n",
    "    demo_CE_F = demo_SE[demo_SE['Q1']==2]\n",
    "    for i, ms in zip(demo_SE['Q5'].unique(),MS):\n",
    "        M_ms_cati = demo_CE_M[demo_CE_M['Q5'] == i]\n",
    "        F_ms_cati = demo_CE_F[demo_CE_F['Q5'] == i]\n",
    "        for quest in demo_SE.columns[-15:]:\n",
    "            cat_counts_M = [Counter(M_ms_cati[quest])[k] for k in '12345']\n",
    "            cat_counts_F = [Counter(F_ms_cati[quest])[k] for k in '12345']\n",
    "            cat_countsM.append(cat_counts_M)\n",
    "            cat_countsF.append(cat_counts_F)\n",
    "            indM.append('M_'+ms+'_'+quest)\n",
    "            indF.append('F_'+ms+'_'+quest)\n",
    "    return pd.DataFrame(data = cat_countsM,columns = ['Strongly disagree','Disagree','Neutral','Agree','Strongly agree'],\n",
    "                        index = indM ), pd.DataFrame(data = cat_countsF,columns = ['Strongly disagree','Disagree','Neutral','Agree','Strongly agree'],\n",
    "                        index = indF) \n",
    "           \n",
    "            "
   ]
  },
  {
   "cell_type": "code",
   "execution_count": 51,
   "metadata": {},
   "outputs": [],
   "source": [
    "cat_counter_SE_by_gender_and_MS_sum = cat_counter_SE_by_gender_and_MS(demo_SE)[0]"
   ]
  },
  {
   "cell_type": "code",
   "execution_count": 52,
   "metadata": {},
   "outputs": [],
   "source": [
    "cat_counter_SE_by_gender_and_MS(demo_SE)[0].to_csv('All_Counts_M_MS_SE.csv')\n",
    "cat_counter_SE_by_gender_and_MS(demo_SE)[1].to_csv('All_Counts_F_MS_SE.csv')"
   ]
  },
  {
   "cell_type": "code",
   "execution_count": 53,
   "metadata": {},
   "outputs": [],
   "source": [
    "cat_percentage_SE_M_and_MS = df_percentage(cat_counter_SE_by_gender_and_MS(demo_SE)[0]).replace(np.nan,0)\n",
    "round(cat_percentage_SE_M_and_MS,2).to_csv('percentage_M_MS_SE.csv')\n",
    "cat_percentage_SE_F_and_MS = df_percentage(cat_counter_SE_by_gender_and_MS(demo_SE)[1]).replace(np.nan,0)\n",
    "round(cat_percentage_SE_F_and_MS,2).to_csv('percentage_F_MS_SE.csv')"
   ]
  },
  {
   "cell_type": "code",
   "execution_count": 40,
   "metadata": {},
   "outputs": [],
   "source": [
    "#cat_percentage_SE_F_and_MS.info()"
   ]
  },
  {
   "cell_type": "markdown",
   "metadata": {
    "jp-MarkdownHeadingCollapsed": true,
    "tags": []
   },
   "source": [
    "## Response Efficacy"
   ]
  },
  {
   "cell_type": "code",
   "execution_count": 54,
   "metadata": {},
   "outputs": [],
   "source": [
    "#section A (The demographics) with questions addressing self efficacy\n",
    "demo_RE = pd.concat([secA, Self_efficacy[Self_efficacy.columns[-1]]], axis=1)"
   ]
  },
  {
   "cell_type": "code",
   "execution_count": 55,
   "metadata": {},
   "outputs": [],
   "source": [
    "demo_RE['Q6'] = demo_RE['Q6'].fillna(demo_RE['Q6'].mode()[0])\n"
   ]
  },
  {
   "cell_type": "code",
   "execution_count": 56,
   "metadata": {},
   "outputs": [],
   "source": [
    "def cat_counter_RE(demo_RE):\n",
    "    \"\"\"Counts of collective efficacy likertscale values for the whole dataset \n",
    "\"\"\"\n",
    "    cat_counts_all = [] \n",
    "    for quest in demo_RE.columns[-1:]:\n",
    "        cat_counts = [Counter(demo_RE[quest])[k+1] for k in range(5)]\n",
    "        cat_counts_all.append(cat_counts)              \n",
    "    return pd.DataFrame(data = cat_counts_all,columns = ['Ineffective','Somewhat effective','Neutral','Effective','Very effective'],\n",
    "                        index = ['Q5_RE'])           \n",
    "            "
   ]
  },
  {
   "cell_type": "code",
   "execution_count": 57,
   "metadata": {},
   "outputs": [],
   "source": [
    "cat_counter_RE(demo_RE).to_csv('All_Counts_RE.csv')"
   ]
  },
  {
   "cell_type": "code",
   "execution_count": 58,
   "metadata": {},
   "outputs": [],
   "source": [
    "#Percentages\n",
    "cat_percentage_RE = df_percentage(cat_counter_RE(demo_RE))\n",
    "round(cat_percentage_RE,2).to_csv('All_percentage_RE.csv')"
   ]
  },
  {
   "cell_type": "code",
   "execution_count": null,
   "metadata": {},
   "outputs": [],
   "source": []
  },
  {
   "cell_type": "code",
   "execution_count": 59,
   "metadata": {},
   "outputs": [],
   "source": [
    "def cat_counter_RE_by_Gender(demo_RE):\n",
    "    \"\"\"Counts of Perceived Severity likertscale values for the dataset split by gender\"\"\"\n",
    "    cat_countsM = [] \n",
    "    cat_countsF = [] \n",
    "    demo_CE_M = demo_RE[demo_RE['Q1']==1]\n",
    "    demo_CE_F = demo_RE[demo_RE['Q1']==2]\n",
    "    for quest in demo_RE.columns[-1:]:\n",
    "        cat_counts_M = [Counter(demo_CE_M[quest])[k+1] for k in range(5)]\n",
    "        cat_counts_F = [Counter(demo_CE_F[quest])[k+1] for k in range(5)]\n",
    "        cat_countsM.append(cat_counts_M)\n",
    "        cat_countsF.append(cat_counts_F)        \n",
    "    return pd.DataFrame(data = cat_countsM,columns = ['Ineffective','Somewhat effective','Neutral','Effective','Very effective'],\n",
    "                        index = ['M_Q5_RE']), pd.DataFrame(data = cat_countsF,columns = ['Ineffective','Somewhat effective','Neutral','Effective','Very effective'],\n",
    "                        index = ['F_Q5_RE'])          \n",
    "            "
   ]
  },
  {
   "cell_type": "code",
   "execution_count": 61,
   "metadata": {},
   "outputs": [],
   "source": [
    "cat_counter_RE_by_Gender(demo_RE)[0].to_csv('All_Counts_M_RE.csv')\n",
    "cat_counter_RE_by_Gender(demo_RE)[1].to_csv('All_Counts_F_RE.csv')"
   ]
  },
  {
   "cell_type": "code",
   "execution_count": 62,
   "metadata": {},
   "outputs": [],
   "source": [
    "round(df_percentage(cat_counter_RE_by_Gender(demo_RE)[0]),2).to_csv('percentage_M_RE.csv')\n",
    "round(df_percentage(cat_counter_RE_by_Gender(demo_RE)[1]),2).to_csv('percentage_F_RE.csv')"
   ]
  },
  {
   "cell_type": "code",
   "execution_count": null,
   "metadata": {},
   "outputs": [],
   "source": []
  },
  {
   "cell_type": "code",
   "execution_count": 63,
   "metadata": {},
   "outputs": [],
   "source": [
    "def cat_counter_RE_by_Gender_and_MS(demo_RE):\n",
    "    \"\"\"Counts of Perceived Severity likertscale values for the dataset split first by gender and then by Marital Status\"\"\"\n",
    "    cat_countsM = [] \n",
    "    cat_countsF = [] \n",
    "    demo_CE_M = demo_RE[demo_RE['Q1']==1]\n",
    "    demo_CE_F = demo_RE[demo_RE['Q1']==2]\n",
    "    for i in demo_RE['Q5'].unique():\n",
    "        M_ms_cati = demo_CE_M[demo_CE_M['Q5'] == i]\n",
    "        F_ms_cati = demo_CE_F[demo_CE_F['Q5'] == i]\n",
    "        for quest in demo_RE.columns[-1:]:\n",
    "            cat_counts_M = [Counter(M_ms_cati[quest])[k+1] for k in range(5)]\n",
    "            cat_counts_F = [Counter(F_ms_cati[quest])[k+1] for k in range(5)]\n",
    "            cat_countsM.append(cat_counts_M)\n",
    "            cat_countsF.append(cat_counts_F)\n",
    "        \n",
    "    return pd.DataFrame(data = cat_countsM,columns = ['Ineffective','Somewhat effective','Neutral','Effective','Very effective'],\n",
    "                        index = ['M_S_Q5_RE','M_M_Q5_RE','M_Dp_Q5_RE','M_W_Q5_RE','M_D_Q5_RE','M_Sep_Q5_RE']), pd.DataFrame(data = cat_countsF,columns = ['Ineffective','Somewhat effective','Neutral','Effective','Very effective'],\n",
    "                        index = ['F_S_Q5_RE','F_M_Q5_RE','F_Dp_Q5_RE','F_W_Q5_RE','F_D_Q5_RE','F_Sep_Q5_RE']) \n",
    " "
   ]
  },
  {
   "cell_type": "code",
   "execution_count": 64,
   "metadata": {},
   "outputs": [],
   "source": [
    "cat_counter_RE_by_Gender_and_MS(demo_RE)[0].to_csv('All_Counts_M_MS_RE.csv')\n",
    "cat_counter_RE_by_Gender_and_MS(demo_RE)[1].to_csv('All_Counts_F_MS_RE.csv')"
   ]
  },
  {
   "cell_type": "code",
   "execution_count": 65,
   "metadata": {},
   "outputs": [],
   "source": [
    "cat_percentage_RE_M_and_MS = df_percentage(cat_counter_RE_by_Gender_and_MS(demo_RE)[0]).replace(np.nan,0)\n",
    "round(cat_percentage_RE_M_and_MS,2).to_csv('percentage_M_MS_RE.csv')\n",
    "cat_percentage_RE_F_and_MS = df_percentage(cat_counter_RE_by_Gender_and_MS(demo_RE)[1]).replace(np.nan,0)\n",
    "round(cat_percentage_RE_F_and_MS,2).to_csv('percentage_F_MS_RE.csv')"
   ]
  },
  {
   "cell_type": "code",
   "execution_count": null,
   "metadata": {},
   "outputs": [],
   "source": []
  },
  {
   "cell_type": "code",
   "execution_count": null,
   "metadata": {},
   "outputs": [],
   "source": [
    "#cat_counter_RE_by_Gender_and_MS(demo_RE)[1]"
   ]
  },
  {
   "cell_type": "markdown",
   "metadata": {
    "tags": []
   },
   "source": [
    "## Drought Adaptation"
   ]
  },
  {
   "cell_type": "code",
   "execution_count": 16,
   "metadata": {},
   "outputs": [],
   "source": [
    "#section A (The demographics) with questions addressing self efficacy\n",
    "demo_DA = pd.concat([secA,Drought_Adaptation], axis=1)"
   ]
  },
  {
   "cell_type": "code",
   "execution_count": 17,
   "metadata": {},
   "outputs": [],
   "source": [
    "demo_DA['Q6'] = demo_DA['Q6'].fillna(demo_DA['Q6'].mode()[0])"
   ]
  },
  {
   "cell_type": "code",
   "execution_count": 18,
   "metadata": {
    "tags": []
   },
   "outputs": [],
   "source": [
    "# Number of individuals indicating to engage in each adaptation strategy\n",
    "count_engaging_in_each_adaptation = pd.DataFrame(demo_DA[demo_DA.columns[-16:]].sum(), columns=['Count'])"
   ]
  },
  {
   "cell_type": "code",
   "execution_count": 19,
   "metadata": {
    "tags": []
   },
   "outputs": [],
   "source": [
    "#count_engaging_in_each_adaptation.to_csv('All_Counts_DA.csv')"
   ]
  },
  {
   "cell_type": "code",
   "execution_count": 20,
   "metadata": {},
   "outputs": [],
   "source": [
    "count_engaging_in_each_adaptation = count_engaging_in_each_adaptation.astype(int)"
   ]
  },
  {
   "cell_type": "code",
   "execution_count": 24,
   "metadata": {},
   "outputs": [],
   "source": [
    "#count_engaging_in_each_adaptation"
   ]
  },
  {
   "cell_type": "code",
   "execution_count": 25,
   "metadata": {},
   "outputs": [],
   "source": [
    "count_engaging_in_each_adaptation.T.to_csv('All_Counts_DA.csv')"
   ]
  },
  {
   "cell_type": "code",
   "execution_count": 26,
   "metadata": {},
   "outputs": [],
   "source": [
    "# As percentages of sample (n)\n",
    "round(((count_engaging_in_each_adaptation.T/384)*100),2).to_csv('All_percentages_DA.csv')"
   ]
  },
  {
   "cell_type": "code",
   "execution_count": 27,
   "metadata": {},
   "outputs": [],
   "source": [
    "# By gender (Male)\n",
    "count_engaging_in_each_adaptation_Male = pd.DataFrame(demo_DA[demo_DA['Q1'] ==1][demo_DA.columns[-16:]].sum().values, \n",
    "                                                     columns=['Count'],index = ['M_'+quest for quest in demo_DA.columns[-16:]])"
   ]
  },
  {
   "cell_type": "code",
   "execution_count": 28,
   "metadata": {},
   "outputs": [],
   "source": [
    "count_engaging_in_each_adaptation_Male = count_engaging_in_each_adaptation_Male.astype(int)"
   ]
  },
  {
   "cell_type": "code",
   "execution_count": 30,
   "metadata": {},
   "outputs": [],
   "source": [
    "#count_engaging_in_each_adaptation_Male"
   ]
  },
  {
   "cell_type": "code",
   "execution_count": 31,
   "metadata": {},
   "outputs": [],
   "source": [
    "count_engaging_in_each_adaptation_Male.T.to_csv('All_Counts_M_DA.csv')"
   ]
  },
  {
   "cell_type": "code",
   "execution_count": 83,
   "metadata": {},
   "outputs": [],
   "source": [
    "# As percentages of sample subgroup\n",
    "round(((count_engaging_in_each_adaptation_Male.T/150)*100),2).to_csv('percentages_M_DA.csv')"
   ]
  },
  {
   "cell_type": "code",
   "execution_count": 124,
   "metadata": {},
   "outputs": [],
   "source": [
    "#demo_DA.info()"
   ]
  },
  {
   "cell_type": "code",
   "execution_count": 84,
   "metadata": {},
   "outputs": [],
   "source": [
    "# By gender (FeMale)\n",
    "count_engaging_in_each_adaptation_FeMale =pd.DataFrame(demo_DA[demo_DA['Q1'] ==2 ][demo_DA.columns[-16:]].sum().values, \n",
    "                                                       columns=['Count'],index = ['F_'+quest for quest in demo_DA.columns[-16:]])"
   ]
  },
  {
   "cell_type": "code",
   "execution_count": 85,
   "metadata": {},
   "outputs": [],
   "source": [
    "count_engaging_in_each_adaptation_FeMale = count_engaging_in_each_adaptation_FeMale.astype(int)"
   ]
  },
  {
   "cell_type": "code",
   "execution_count": 86,
   "metadata": {},
   "outputs": [],
   "source": [
    "count_engaging_in_each_adaptation_FeMale.T.to_csv('All_Counts_F_DA.csv')"
   ]
  },
  {
   "cell_type": "code",
   "execution_count": 87,
   "metadata": {},
   "outputs": [],
   "source": [
    "# As percentages of sample (n)\n",
    "round(((count_engaging_in_each_adaptation_FeMale.T/234)*100),2).to_csv('percentages_F_DA.csv')"
   ]
  },
  {
   "cell_type": "code",
   "execution_count": 101,
   "metadata": {},
   "outputs": [],
   "source": [
    "def adpatation_counts_by_gender_and_MS(demo_DA):\n",
    "    quest_sums_male = []\n",
    "    quest_sums_female = []\n",
    "    indM =[]\n",
    "    indF =[]\n",
    "    MS = ['S','M','Dp','W','D','Sep']\n",
    "    adpt_strategies = demo_DA.columns[-16:]\n",
    "    demo_DA_M = demo_DA[demo_DA['Q1'] ==1]\n",
    "    demo_DA_F = demo_DA[demo_DA['Q1'] ==2]\n",
    "    for i,ms in zip(demo_DA['Q5'].unique(),MS):\n",
    "        quest_sums_male.append(list(demo_DA_M[demo_DA_M['Q5'] ==i ][demo_DA.columns[-16:]].sum().values))\n",
    "        quest_sums_female.append(list(demo_DA_F[demo_DA_F['Q5'] ==i ][demo_DA.columns[-16:]].sum().values))\n",
    "        indM.append('M_'+ms)\n",
    "        indF.append('F_'+ms)\n",
    "    return pd.DataFrame(data = quest_sums_male, columns = adpt_strategies,index=indM), pd.DataFrame(data = quest_sums_female, columns = adpt_strategies,index=indF)\n",
    "    "
   ]
  },
  {
   "cell_type": "code",
   "execution_count": 102,
   "metadata": {},
   "outputs": [],
   "source": [
    "adpatation_counts_by_gender_and_MS(demo_DA)[0].astype(int).to_csv('All_Counts_M_MS_DA.csv')\n",
    "adpatation_counts_by_gender_and_MS(demo_DA)[1].astype(int).to_csv('All_Counts_F_MS_DA.csv')"
   ]
  },
  {
   "cell_type": "code",
   "execution_count": 111,
   "metadata": {},
   "outputs": [],
   "source": [
    "adpatation_counts_M_and_MS = adpatation_counts_by_gender_and_MS(demo_DA)[0].astype(int)\n",
    "adpatation_counts_F_and_MS = adpatation_counts_by_gender_and_MS(demo_DA)[1].astype(int)"
   ]
  },
  {
   "cell_type": "code",
   "execution_count": 107,
   "metadata": {},
   "outputs": [],
   "source": [
    "# Percentage convertion function for any counts dataframe (must be shifted to the function space) some python module\n",
    "def df_percentage_DA(dataframe,divisors): \n",
    "    dataframe[\"Total\"] = divisors\n",
    "    percentage_data = [((dataframe[dataframe.columns[:-1]].iloc[i]/dataframe[dataframe.columns[-1]].iloc[i])*100).values for i in range(dataframe.shape[0])]\n",
    "    percentage_dataframe = pd.DataFrame(data = percentage_data, columns = dataframe.columns[:-1], index = dataframe.index)\n",
    "    return percentage_dataframe"
   ]
  },
  {
   "cell_type": "code",
   "execution_count": 105,
   "metadata": {},
   "outputs": [],
   "source": [
    "divisors_m = [demo_DA[demo_DA['Q1']==1][demo_DA['Q5']==i].shape[0] for i in demo_DA['Q5'].unique() ]\n",
    "\n",
    "round(df_percentage_DA(adpatation_counts_M_and_MS,divisors_m),2).to_csv('Percentage_M_MS_DA.csv')"
   ]
  },
  {
   "cell_type": "code",
   "execution_count": 112,
   "metadata": {},
   "outputs": [
    {
     "name": "stderr",
     "output_type": "stream",
     "text": [
      "/home/felix/Documents/Environments/Deep_learning_env/lib/python3.7/site-packages/ipykernel_launcher.py:1: UserWarning: Boolean Series key will be reindexed to match DataFrame index.\n",
      "  \"\"\"Entry point for launching an IPython kernel.\n"
     ]
    }
   ],
   "source": [
    "divisors_f = [demo_DA[demo_DA['Q1']==2][demo_DA['Q5']==i].shape[0] for i in demo_DA['Q5'].unique() ]\n",
    "\n",
    "round(df_percentage_DA(adpatation_counts_F_and_MS,divisors_f),2).to_csv('Percentage_F_MS_DA.csv')"
   ]
  },
  {
   "cell_type": "code",
   "execution_count": 113,
   "metadata": {},
   "outputs": [
    {
     "data": {
      "text/plain": [
       "[134, 66, 0, 15, 17, 2]"
      ]
     },
     "execution_count": 113,
     "metadata": {},
     "output_type": "execute_result"
    }
   ],
   "source": [
    "#divisors_f"
   ]
  },
  {
   "cell_type": "code",
   "execution_count": 32,
   "metadata": {},
   "outputs": [],
   "source": [
    "#adpatation_counts_by_gender_and_MS(demo_DA)[0]"
   ]
  },
  {
   "cell_type": "code",
   "execution_count": 61,
   "metadata": {},
   "outputs": [],
   "source": [
    "#adpatation_counts_by_gender_and_MS(demo_DA)[1]"
   ]
  },
  {
   "cell_type": "markdown",
   "metadata": {
    "jp-MarkdownHeadingCollapsed": true,
    "tags": []
   },
   "source": [
    "## Barriers"
   ]
  },
  {
   "cell_type": "code",
   "execution_count": 10,
   "metadata": {},
   "outputs": [],
   "source": [
    "#section A (The demographics) with questions addressing self efficacy\n",
    "demo_BA = pd.concat([secA,Barriers], axis=1)"
   ]
  },
  {
   "cell_type": "code",
   "execution_count": 11,
   "metadata": {},
   "outputs": [],
   "source": [
    "#demo_BA.head()"
   ]
  },
  {
   "cell_type": "code",
   "execution_count": 12,
   "metadata": {},
   "outputs": [],
   "source": [
    "# Number of individuals indicating to engage in each adaptation strategy\n",
    "count_engaging_in_each_Barrier = pd.DataFrame(demo_BA[demo_BA.columns[-12:]].sum(), columns=['Count'])"
   ]
  },
  {
   "cell_type": "code",
   "execution_count": 14,
   "metadata": {},
   "outputs": [
    {
     "data": {
      "text/html": [
       "<div>\n",
       "<style scoped>\n",
       "    .dataframe tbody tr th:only-of-type {\n",
       "        vertical-align: middle;\n",
       "    }\n",
       "\n",
       "    .dataframe tbody tr th {\n",
       "        vertical-align: top;\n",
       "    }\n",
       "\n",
       "    .dataframe thead th {\n",
       "        text-align: right;\n",
       "    }\n",
       "</style>\n",
       "<table border=\"1\" class=\"dataframe\">\n",
       "  <thead>\n",
       "    <tr style=\"text-align: right;\">\n",
       "      <th></th>\n",
       "      <th>Q1_1</th>\n",
       "      <th>Q1_2</th>\n",
       "      <th>Q1_3</th>\n",
       "      <th>Q1_4</th>\n",
       "      <th>Q1_5</th>\n",
       "      <th>Q1_6</th>\n",
       "      <th>Q1_7</th>\n",
       "      <th>Q1_8</th>\n",
       "      <th>Q1_9</th>\n",
       "      <th>Q1_10</th>\n",
       "      <th>Q1_11</th>\n",
       "      <th>Q1_12</th>\n",
       "    </tr>\n",
       "  </thead>\n",
       "  <tbody>\n",
       "    <tr>\n",
       "      <th>Count</th>\n",
       "      <td>251.0</td>\n",
       "      <td>134.0</td>\n",
       "      <td>65.0</td>\n",
       "      <td>185.0</td>\n",
       "      <td>67.0</td>\n",
       "      <td>85.0</td>\n",
       "      <td>114.0</td>\n",
       "      <td>86.0</td>\n",
       "      <td>51.0</td>\n",
       "      <td>12.0</td>\n",
       "      <td>16.0</td>\n",
       "      <td>48.0</td>\n",
       "    </tr>\n",
       "  </tbody>\n",
       "</table>\n",
       "</div>"
      ],
      "text/plain": [
       "        Q1_1   Q1_2  Q1_3   Q1_4  Q1_5  Q1_6   Q1_7  Q1_8  Q1_9  Q1_10  Q1_11  \\\n",
       "Count  251.0  134.0  65.0  185.0  67.0  85.0  114.0  86.0  51.0   12.0   16.0   \n",
       "\n",
       "       Q1_12  \n",
       "Count   48.0  "
      ]
     },
     "execution_count": 14,
     "metadata": {},
     "output_type": "execute_result"
    }
   ],
   "source": [
    "count_engaging_in_each_Barrier.T.head()"
   ]
  },
  {
   "cell_type": "code",
   "execution_count": 14,
   "metadata": {},
   "outputs": [],
   "source": [
    "count_engaging_in_each_Barrier.T.astype(int).to_csv('All_Counts_BA.csv')"
   ]
  },
  {
   "cell_type": "code",
   "execution_count": 15,
   "metadata": {},
   "outputs": [],
   "source": [
    "#percentage of total\n",
    "# As percentages of sample (n)\n",
    "round(((count_engaging_in_each_Barrier.T/384)*100),2).to_csv('All_percentages_BA.csv')"
   ]
  },
  {
   "cell_type": "code",
   "execution_count": 15,
   "metadata": {},
   "outputs": [],
   "source": [
    "# By gender (Male)\n",
    "count_engaging_in_each_Barrier_Male =pd.DataFrame(demo_BA[demo_BA['Q2'] ==1 ][demo_BA.columns[-12:]].sum().values, \n",
    "                                                     columns=['Count'],index = ['M_'+quest for quest in demo_BA.columns[-12:]])"
   ]
  },
  {
   "cell_type": "code",
   "execution_count": 16,
   "metadata": {},
   "outputs": [],
   "source": [
    "count_engaging_in_each_Barrier_Male.T.astype(int).to_csv('All_Counts_M_BA.csv')"
   ]
  },
  {
   "cell_type": "code",
   "execution_count": 17,
   "metadata": {},
   "outputs": [],
   "source": [
    "# As percentages of sample subgroup\n",
    "round(((count_engaging_in_each_Barrier_Male.T/150)*100),2).to_csv('percentages_M_BA.csv')"
   ]
  },
  {
   "cell_type": "code",
   "execution_count": 18,
   "metadata": {},
   "outputs": [],
   "source": [
    "# By gender (Female)\n",
    "count_engaging_in_each_Barrier_Female =pd.DataFrame(demo_BA[demo_BA['Q2'] ==2 ][demo_BA.columns[-12:]].sum().values, \n",
    "                                                     columns=['Count'],index = ['F_'+quest for quest in demo_BA.columns[-12:]])"
   ]
  },
  {
   "cell_type": "code",
   "execution_count": 19,
   "metadata": {},
   "outputs": [],
   "source": [
    "count_engaging_in_each_Barrier_Female.T.astype(int).to_csv('All_Counts_F_BA.csv')"
   ]
  },
  {
   "cell_type": "code",
   "execution_count": 20,
   "metadata": {},
   "outputs": [],
   "source": [
    "# As percentages of sample subgroup\n",
    "round(((count_engaging_in_each_Barrier_Female.T/234)*100),2).to_csv('percentages_F_BA.csv')"
   ]
  },
  {
   "cell_type": "code",
   "execution_count": 21,
   "metadata": {},
   "outputs": [],
   "source": [
    "def Barriers_counts_by_gender_and_MS(demo_DA):\n",
    "    quest_sums_male = []\n",
    "    quest_sums_female = []\n",
    "    indM =[]\n",
    "    indF =[]\n",
    "    MS = ['S','M','Dp','W','D','Sep']\n",
    "    adpt_strategies = demo_DA.columns[-12:]\n",
    "    demo_DA_M = demo_DA[demo_DA['Q2'] ==1]\n",
    "    demo_DA_F = demo_DA[demo_DA['Q2'] ==2]\n",
    "    for i,ms in zip(demo_DA['Q5'].unique(),MS):\n",
    "        quest_sums_male.append(list(demo_DA_M[demo_DA_M['Q5'] ==i ][demo_DA.columns[-12:]].sum().values))\n",
    "        quest_sums_female.append(list(demo_DA_F[demo_DA_F['Q5'] ==i ][demo_DA.columns[-12:]].sum().values))\n",
    "        indM.append('M_'+ms)\n",
    "        indF.append('F_'+ms)\n",
    "    return pd.DataFrame(data = quest_sums_male, columns = adpt_strategies,index=indM), pd.DataFrame(data = quest_sums_female, columns = adpt_strategies,index=indF)\n",
    "    "
   ]
  },
  {
   "cell_type": "code",
   "execution_count": null,
   "metadata": {},
   "outputs": [],
   "source": []
  },
  {
   "cell_type": "code",
   "execution_count": 22,
   "metadata": {},
   "outputs": [],
   "source": [
    "Barriers_counts_by_gender_and_MS(demo_BA)[0].astype(int).to_csv('All_Counts_M_MS_BA.csv')\n",
    "Barriers_counts_by_gender_and_MS(demo_BA)[1].astype(int).to_csv('All_Counts_F_MS_BA.csv')"
   ]
  },
  {
   "cell_type": "code",
   "execution_count": 23,
   "metadata": {},
   "outputs": [],
   "source": [
    "#counts for percentage computations\n",
    "Barriers_counts_M_and_MS = Barriers_counts_by_gender_and_MS(demo_BA)[0].astype(int)\n",
    "Barriers_counts_F_and_MS = Barriers_counts_by_gender_and_MS(demo_BA)[1].astype(int)"
   ]
  },
  {
   "cell_type": "code",
   "execution_count": 27,
   "metadata": {},
   "outputs": [],
   "source": [
    "#Barriers_counts_F_and_MS"
   ]
  },
  {
   "cell_type": "code",
   "execution_count": 28,
   "metadata": {},
   "outputs": [],
   "source": [
    "# Percentage convertion function for any counts dataframe (must be shifted to the function space) some python module\n",
    "def df_percentage_BA(dataframe,divisors): \n",
    "    dataframe[\"Total\"] = divisors\n",
    "    percentage_data = [((dataframe[dataframe.columns[:-1]].iloc[i]/dataframe[dataframe.columns[-1]].iloc[i])*100).values for i in range(dataframe.shape[0])]\n",
    "    percentage_dataframe = pd.DataFrame(data = percentage_data, columns = dataframe.columns[:-1], index = dataframe.index)\n",
    "    return percentage_dataframe"
   ]
  },
  {
   "cell_type": "code",
   "execution_count": 29,
   "metadata": {},
   "outputs": [
    {
     "name": "stderr",
     "output_type": "stream",
     "text": [
      "/home/felix/Documents/Environments/Deep_learning_env/lib/python3.7/site-packages/ipykernel_launcher.py:1: UserWarning: Boolean Series key will be reindexed to match DataFrame index.\n",
      "  \"\"\"Entry point for launching an IPython kernel.\n"
     ]
    }
   ],
   "source": [
    "divisors_m = [demo_BA[demo_BA['Q1']==1][demo_BA['Q5']==i].shape[0] for i in demo_BA['Q5'].unique()]\n",
    "round(df_percentage_BA(Barriers_counts_M_and_MS,divisors_m),2).to_csv('Percentage_M_MS_BA.csv')"
   ]
  },
  {
   "cell_type": "code",
   "execution_count": 30,
   "metadata": {},
   "outputs": [
    {
     "name": "stderr",
     "output_type": "stream",
     "text": [
      "/home/felix/Documents/Environments/Deep_learning_env/lib/python3.7/site-packages/ipykernel_launcher.py:1: UserWarning: Boolean Series key will be reindexed to match DataFrame index.\n",
      "  \"\"\"Entry point for launching an IPython kernel.\n"
     ]
    }
   ],
   "source": [
    "divisors_f = [demo_BA[demo_BA['Q1']==2][demo_BA['Q5']==i].shape[0] for i in demo_BA['Q5'].unique()]\n",
    "round(df_percentage_BA(Barriers_counts_F_and_MS,divisors_f),2).to_csv('Percentage_F_MS_BA.csv')"
   ]
  },
  {
   "cell_type": "code",
   "execution_count": null,
   "metadata": {},
   "outputs": [],
   "source": []
  },
  {
   "cell_type": "code",
   "execution_count": 75,
   "metadata": {},
   "outputs": [],
   "source": [
    "#Barriers_counts_by_gender_and_MS(demo_BA)[1]"
   ]
  },
  {
   "cell_type": "markdown",
   "metadata": {
    "jp-MarkdownHeadingCollapsed": true,
    "tags": []
   },
   "source": [
    "## Functions on Hold"
   ]
  },
  {
   "cell_type": "code",
   "execution_count": null,
   "metadata": {},
   "outputs": [],
   "source": [
    "# Further split on marital Status\n",
    "\n",
    "demo_CE_M_MS = demo_CE[demo_CE['Q1']==1]\n",
    "demo_CE_F_MS = demo_CE[demo_CE['Q1']==2]"
   ]
  },
  {
   "cell_type": "code",
   "execution_count": null,
   "metadata": {},
   "outputs": [],
   "source": [
    "Counter(demo_CE_M['Q21_1'])"
   ]
  },
  {
   "cell_type": "code",
   "execution_count": null,
   "metadata": {},
   "outputs": [],
   "source": [
    "sorted(counte)"
   ]
  },
  {
   "cell_type": "code",
   "execution_count": null,
   "metadata": {},
   "outputs": [],
   "source": [
    "Counter(demo_CE_M['Q21_2'])"
   ]
  },
  {
   "cell_type": "code",
   "execution_count": null,
   "metadata": {},
   "outputs": [],
   "source": [
    "Counter(demo_CE_M['Q21_3'])"
   ]
  },
  {
   "cell_type": "code",
   "execution_count": null,
   "metadata": {},
   "outputs": [],
   "source": [
    "Counter(demo_CE_M['Q21_4'])"
   ]
  },
  {
   "cell_type": "code",
   "execution_count": null,
   "metadata": {},
   "outputs": [],
   "source": []
  },
  {
   "cell_type": "code",
   "execution_count": null,
   "metadata": {},
   "outputs": [],
   "source": []
  },
  {
   "cell_type": "code",
   "execution_count": null,
   "metadata": {},
   "outputs": [],
   "source": [
    "grouped_CE.head()"
   ]
  },
  {
   "cell_type": "code",
   "execution_count": null,
   "metadata": {},
   "outputs": [],
   "source": []
  },
  {
   "cell_type": "code",
   "execution_count": null,
   "metadata": {},
   "outputs": [],
   "source": []
  },
  {
   "cell_type": "code",
   "execution_count": null,
   "metadata": {},
   "outputs": [],
   "source": [
    "grouped_CE['Q21_4']"
   ]
  },
  {
   "cell_type": "code",
   "execution_count": null,
   "metadata": {},
   "outputs": [],
   "source": [
    "grouped_count_CE = grouped_cnt[grouped_cnt.columns[-4:]]"
   ]
  },
  {
   "cell_type": "code",
   "execution_count": null,
   "metadata": {},
   "outputs": [],
   "source": [
    "grouped_count_CE"
   ]
  },
  {
   "cell_type": "code",
   "execution_count": null,
   "metadata": {},
   "outputs": [],
   "source": [
    "CE_F = demo_CE[demo_CE['Q1']==2]"
   ]
  },
  {
   "cell_type": "code",
   "execution_count": null,
   "metadata": {},
   "outputs": [],
   "source": [
    "CE_FM = demo_CE[demo_CE['Q1']==2][demo_CE['Q5']==2]"
   ]
  },
  {
   "cell_type": "code",
   "execution_count": null,
   "metadata": {},
   "outputs": [],
   "source": [
    "CE_FS = demo_CE[demo_CE['Q1']==2][demo_CE['Q5']==1]"
   ]
  },
  {
   "cell_type": "code",
   "execution_count": null,
   "metadata": {},
   "outputs": [],
   "source": [
    "CE_FS.describe()"
   ]
  },
  {
   "cell_type": "code",
   "execution_count": null,
   "metadata": {
    "tags": []
   },
   "outputs": [],
   "source": [
    "CE_FM.describe()"
   ]
  },
  {
   "cell_type": "code",
   "execution_count": null,
   "metadata": {},
   "outputs": [],
   "source": [
    "CE_M = demo_CE[demo_CE['Q1']==1][demo_CE['Q5']==2]"
   ]
  },
  {
   "cell_type": "code",
   "execution_count": null,
   "metadata": {
    "tags": []
   },
   "outputs": [],
   "source": [
    "CE_M.head()"
   ]
  },
  {
   "cell_type": "code",
   "execution_count": null,
   "metadata": {},
   "outputs": [],
   "source": []
  },
  {
   "cell_type": "code",
   "execution_count": null,
   "metadata": {},
   "outputs": [],
   "source": []
  },
  {
   "cell_type": "code",
   "execution_count": null,
   "metadata": {
    "jupyter": {
     "source_hidden": true
    },
    "tags": []
   },
   "outputs": [],
   "source": []
  }
 ],
 "metadata": {
  "kernelspec": {
   "display_name": "Python 3",
   "language": "python",
   "name": "python3"
  },
  "language_info": {
   "codemirror_mode": {
    "name": "ipython",
    "version": 3
   },
   "file_extension": ".py",
   "mimetype": "text/x-python",
   "name": "python",
   "nbconvert_exporter": "python",
   "pygments_lexer": "ipython3",
   "version": "3.7.3"
  }
 },
 "nbformat": 4,
 "nbformat_minor": 4
}
